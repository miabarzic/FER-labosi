{
 "cells": [
  {
   "cell_type": "markdown",
   "metadata": {},
   "source": [
    "Sveučilište u Zagrebu  \n",
    "Fakultet elektrotehnike i računarstva  \n",
    "  \n",
    "## Strojno učenje 2019/2020  \n",
    "http://www.fer.unizg.hr/predmet/su"
   ]
  },
  {
   "cell_type": "markdown",
   "metadata": {},
   "source": [
    "------------------------------\n",
    "\n",
    "### Laboratorijska vježba 1: Regresija\n",
    "\n",
    "*Verzija: 1.2  \n",
    "Zadnji put ažurirano: 27. rujna 2019.*\n",
    "\n",
    "(c) 2015-2019 Jan Šnajder, Domagoj Alagić \n",
    "\n",
    "Objavljeno: **30. rujna 2019.**  \n",
    "Rok za predaju: **21. listopada 2019. u 07:00h**\n",
    "\n",
    "------------------------------"
   ]
  },
  {
   "cell_type": "markdown",
   "metadata": {},
   "source": [
    "### Upute\n",
    "\n",
    "Prva laboratorijska vježba sastoji se od deset zadataka. U nastavku slijedite upute navedene u ćelijama s tekstom. Rješavanje vježbe svodi se na **dopunjavanje ove bilježnice**: umetanja ćelije ili više njih **ispod** teksta zadatka, pisanja odgovarajućeg kôda te evaluiranja ćelija. \n",
    "\n",
    "Osigurajte da u potpunosti **razumijete** kôd koji ste napisali. Kod predaje vježbe, morate biti u stanju na zahtjev asistenta (ili demonstratora) preinačiti i ponovno evaluirati Vaš kôd. Nadalje, morate razumjeti teorijske osnove onoga što radite, u okvirima onoga što smo obradili na predavanju. Ispod nekih zadataka možete naći i pitanja koja služe kao smjernice za bolje razumijevanje gradiva (**nemojte pisati** odgovore na pitanja u bilježnicu). Stoga se nemojte ograničiti samo na to da riješite zadatak, nego slobodno eksperimentirajte. To upravo i jest svrha ovih vježbi.\n",
    "\n",
    "Vježbe trebate raditi **samostalno**. Možete se konzultirati s drugima o načelnom načinu rješavanja, ali u konačnici morate sami odraditi vježbu. U protivnome vježba nema smisla."
   ]
  },
  {
   "cell_type": "code",
   "execution_count": 2,
   "metadata": {},
   "outputs": [
    {
     "name": "stdout",
     "output_type": "stream",
     "text": [
      "Populating the interactive namespace from numpy and matplotlib\n"
     ]
    }
   ],
   "source": [
    "# Učitaj osnovne biblioteke...\n",
    "import numpy as np\n",
    "import sklearn\n",
    "import matplotlib.pyplot as plt\n",
    "%pylab inline"
   ]
  },
  {
   "cell_type": "markdown",
   "metadata": {},
   "source": [
    "## Zadatci"
   ]
  },
  {
   "cell_type": "markdown",
   "metadata": {},
   "source": [
    "### 1. Jednostavna regresija"
   ]
  },
  {
   "cell_type": "markdown",
   "metadata": {},
   "source": [
    "Zadan je skup primjera $\\mathcal{D}=\\{(x^{(i)},y^{(i)})\\}_{i=1}^4 = \\{(0,4),(1,1),(2,2),(4,5)\\}$. Primjere predstavite matricom $\\mathbf{X}$ dimenzija $N\\times n$ (u ovom slučaju $4\\times 1$) i vektorom oznaka $\\textbf{y}$, dimenzija $N\\times 1$ (u ovom slučaju $4\\times 1$), na sljedeći način:\n"
   ]
  },
  {
   "cell_type": "code",
   "execution_count": 3,
   "metadata": {},
   "outputs": [],
   "source": [
    "X = np.array([[0],[1],[2],[4]])\n",
    "y = np.array([4,1,2,5])"
   ]
  },
  {
   "cell_type": "markdown",
   "metadata": {},
   "source": [
    "### (a)\n",
    "\n",
    "Proučite funkciju [`PolynomialFeatures`](http://scikit-learn.org/stable/modules/generated/sklearn.preprocessing.PolynomialFeatures.html) iz biblioteke `sklearn` i upotrijebite je za generiranje matrice dizajna $\\mathbf{\\Phi}$ koja ne koristi preslikavanje u prostor više dimenzije (samo će svakom primjeru biti dodane *dummy* jedinice; $m=n+1$).\n"
   ]
  },
  {
   "cell_type": "code",
   "execution_count": 4,
   "metadata": {},
   "outputs": [],
   "source": [
    "from sklearn.preprocessing import PolynomialFeatures"
   ]
  },
  {
   "cell_type": "code",
   "execution_count": 5,
   "metadata": {},
   "outputs": [
    {
     "data": {
      "text/plain": [
       "array([[1., 0.],\n",
       "       [1., 1.],\n",
       "       [1., 2.],\n",
       "       [1., 4.]])"
      ]
     },
     "execution_count": 5,
     "metadata": {},
     "output_type": "execute_result"
    }
   ],
   "source": [
    "# Vaš kôd ovdje\n",
    "poly = PolynomialFeatures(1)\n",
    "design_matrix = poly.fit_transform(X)\n",
    "design_matrix"
   ]
  },
  {
   "cell_type": "markdown",
   "metadata": {},
   "source": [
    "### (b)"
   ]
  },
  {
   "cell_type": "markdown",
   "metadata": {},
   "source": [
    "Upoznajte se s modulom [`linalg`](http://docs.scipy.org/doc/numpy/reference/routines.linalg.html). Izračunajte težine $\\mathbf{w}$ modela linearne regresije kao $\\mathbf{w}=(\\mathbf{\\Phi}^\\intercal\\mathbf{\\Phi})^{-1}\\mathbf{\\Phi}^\\intercal\\mathbf{y}$. Zatim se uvjerite da isti rezultat možete dobiti izračunom pseudoinverza $\\mathbf{\\Phi}^+$ matrice dizajna, tj. $\\mathbf{w}=\\mathbf{\\Phi}^+\\mathbf{y}$, korištenjem funkcije [`pinv`](http://docs.scipy.org/doc/numpy/reference/generated/numpy.linalg.pinv.html)."
   ]
  },
  {
   "cell_type": "code",
   "execution_count": 6,
   "metadata": {},
   "outputs": [],
   "source": [
    "from numpy import linalg"
   ]
  },
  {
   "cell_type": "code",
   "execution_count": 7,
   "metadata": {},
   "outputs": [
    {
     "data": {
      "text/plain": [
       "(array([2.2       , 0.45714286]), array([2.2       , 0.45714286]))"
      ]
     },
     "execution_count": 7,
     "metadata": {},
     "output_type": "execute_result"
    }
   ],
   "source": [
    "# Vaš kôd ovdje\n",
    "design_matrix_t = np.transpose(design_matrix)\n",
    "inverse = linalg.inv(design_matrix_t.dot(design_matrix))\n",
    "w = inverse.dot(design_matrix_t).dot(y)\n",
    "\n",
    "w_pseudoinverse = linalg.pinv(design_matrix).dot(y)\n",
    "\n",
    "w, w_pseudoinverse\n",
    "\n",
    "\n"
   ]
  },
  {
   "cell_type": "markdown",
   "metadata": {},
   "source": [
    "Radi jasnoće, u nastavku je vektor $\\mathbf{x}$ s dodanom *dummy* jedinicom $x_0=1$ označen kao $\\tilde{\\mathbf{x}}$."
   ]
  },
  {
   "cell_type": "markdown",
   "metadata": {},
   "source": [
    "### (c)"
   ]
  },
  {
   "cell_type": "markdown",
   "metadata": {},
   "source": [
    "Prikažite primjere iz $\\mathcal{D}$ i funkciju $h(\\tilde{\\mathbf{x}})=\\mathbf{w}^\\intercal\\tilde{\\mathbf{x}}$. Izračunajte pogrešku učenja prema izrazu $E(h|\\mathcal{D})=\\frac{1}{2}\\sum_{i=1}^N(\\tilde{\\mathbf{y}}^{(i)} - h(\\tilde{\\mathbf{x}}))^2$. Možete koristiti funkciju srednje kvadratne pogreške [`mean_squared_error`]( http://scikit-learn.org/stable/modules/generated/sklearn.metrics.mean_squared_error.html) iz modula [`sklearn.metrics`](http://scikit-learn.org/stable/modules/classes.html#module-sklearn.metrics).\n",
    "\n",
    "**Q:** Gore definirana funkcija pogreške $E(h|\\mathcal{D})$ i funkcija srednje kvadratne pogreške nisu posve identične. U čemu je razlika? Koja je \"realnija\"?"
   ]
  },
  {
   "cell_type": "code",
   "execution_count": 8,
   "metadata": {},
   "outputs": [
    {
     "name": "stdout",
     "output_type": "stream",
     "text": [
      "4.085714285714286\n",
      "2.042857142857143\n"
     ]
    },
    {
     "data": {
      "image/png": "[encoded data removed]",
      "text/plain": [
       "<Figure size 432x288 with 1 Axes>"
      ]
     },
     "metadata": {
      "needs_background": "light"
     },
     "output_type": "display_data"
    }
   ],
   "source": [
    "# Vaš kôd ovdje\n",
    "from sklearn.metrics import mean_squared_error\n",
    "\n",
    "h = design_matrix.dot(w)\n",
    "\n",
    "plt.plot(X, y, 'x')\n",
    "plt.plot(X, h, 'r-')\n",
    "\n",
    "E = (1./2) * sum((y - h) ** 2)\n",
    "print(E)\n",
    "print(mean_squared_error(y, h))\n"
   ]
  },
  {
   "cell_type": "markdown",
   "metadata": {},
   "source": [
    "### (d)"
   ]
  },
  {
   "cell_type": "markdown",
   "metadata": {},
   "source": [
    "Uvjerite se da za primjere iz $\\mathcal{D}$ težine $\\mathbf{w}$ ne možemo naći rješavanjem sustava $\\mathbf{w}=\\mathbf{\\Phi}^{-1}\\mathbf{y}$, već da nam doista treba pseudoinverz.\n",
    "\n",
    "**Q:** Zašto je to slučaj? Bi li se problem mogao riješiti preslikavanjem primjera u višu dimenziju? Ako da, bi li to uvijek funkcioniralo, neovisno o skupu primjera $\\mathcal{D}$? Pokažite na primjeru."
   ]
  },
  {
   "cell_type": "code",
   "execution_count": 9,
   "metadata": {},
   "outputs": [
    {
     "ename": "LinAlgError",
     "evalue": "Last 2 dimensions of the array must be square",
     "output_type": "error",
     "traceback": [
      "\u001b[1;31m---------------------------------------------------------------------------\u001b[0m",
      "\u001b[1;31mLinAlgError\u001b[0m                               Traceback (most recent call last)",
      "\u001b[1;32m<ipython-input-9-9f24640e5e41>\u001b[0m in \u001b[0;36m<module>\u001b[1;34m\u001b[0m\n\u001b[0;32m      1\u001b[0m \u001b[1;31m# Vaš kôd ovdje\u001b[0m\u001b[1;33m\u001b[0m\u001b[1;33m\u001b[0m\u001b[1;33m\u001b[0m\u001b[0m\n\u001b[1;32m----> 2\u001b[1;33m \u001b[0mlinalg\u001b[0m\u001b[1;33m.\u001b[0m\u001b[0minv\u001b[0m\u001b[1;33m(\u001b[0m\u001b[0mdesign_matrix\u001b[0m\u001b[1;33m)\u001b[0m\u001b[1;33m.\u001b[0m\u001b[0mdot\u001b[0m\u001b[1;33m(\u001b[0m\u001b[0my\u001b[0m\u001b[1;33m)\u001b[0m\u001b[1;33m\u001b[0m\u001b[1;33m\u001b[0m\u001b[0m\n\u001b[0m",
      "\u001b[1;32m~\\Anaconda3\\lib\\site-packages\\numpy\\linalg\\linalg.py\u001b[0m in \u001b[0;36minv\u001b[1;34m(a)\u001b[0m\n\u001b[0;32m    544\u001b[0m     \u001b[0ma\u001b[0m\u001b[1;33m,\u001b[0m \u001b[0mwrap\u001b[0m \u001b[1;33m=\u001b[0m \u001b[0m_makearray\u001b[0m\u001b[1;33m(\u001b[0m\u001b[0ma\u001b[0m\u001b[1;33m)\u001b[0m\u001b[1;33m\u001b[0m\u001b[1;33m\u001b[0m\u001b[0m\n\u001b[0;32m    545\u001b[0m     \u001b[0m_assertRankAtLeast2\u001b[0m\u001b[1;33m(\u001b[0m\u001b[0ma\u001b[0m\u001b[1;33m)\u001b[0m\u001b[1;33m\u001b[0m\u001b[1;33m\u001b[0m\u001b[0m\n\u001b[1;32m--> 546\u001b[1;33m     \u001b[0m_assertNdSquareness\u001b[0m\u001b[1;33m(\u001b[0m\u001b[0ma\u001b[0m\u001b[1;33m)\u001b[0m\u001b[1;33m\u001b[0m\u001b[1;33m\u001b[0m\u001b[0m\n\u001b[0m\u001b[0;32m    547\u001b[0m     \u001b[0mt\u001b[0m\u001b[1;33m,\u001b[0m \u001b[0mresult_t\u001b[0m \u001b[1;33m=\u001b[0m \u001b[0m_commonType\u001b[0m\u001b[1;33m(\u001b[0m\u001b[0ma\u001b[0m\u001b[1;33m)\u001b[0m\u001b[1;33m\u001b[0m\u001b[1;33m\u001b[0m\u001b[0m\n\u001b[0;32m    548\u001b[0m \u001b[1;33m\u001b[0m\u001b[0m\n",
      "\u001b[1;32m~\\Anaconda3\\lib\\site-packages\\numpy\\linalg\\linalg.py\u001b[0m in \u001b[0;36m_assertNdSquareness\u001b[1;34m(*arrays)\u001b[0m\n\u001b[0;32m    211\u001b[0m         \u001b[0mm\u001b[0m\u001b[1;33m,\u001b[0m \u001b[0mn\u001b[0m \u001b[1;33m=\u001b[0m \u001b[0ma\u001b[0m\u001b[1;33m.\u001b[0m\u001b[0mshape\u001b[0m\u001b[1;33m[\u001b[0m\u001b[1;33m-\u001b[0m\u001b[1;36m2\u001b[0m\u001b[1;33m:\u001b[0m\u001b[1;33m]\u001b[0m\u001b[1;33m\u001b[0m\u001b[1;33m\u001b[0m\u001b[0m\n\u001b[0;32m    212\u001b[0m         \u001b[1;32mif\u001b[0m \u001b[0mm\u001b[0m \u001b[1;33m!=\u001b[0m \u001b[0mn\u001b[0m\u001b[1;33m:\u001b[0m\u001b[1;33m\u001b[0m\u001b[1;33m\u001b[0m\u001b[0m\n\u001b[1;32m--> 213\u001b[1;33m             \u001b[1;32mraise\u001b[0m \u001b[0mLinAlgError\u001b[0m\u001b[1;33m(\u001b[0m\u001b[1;34m'Last 2 dimensions of the array must be square'\u001b[0m\u001b[1;33m)\u001b[0m\u001b[1;33m\u001b[0m\u001b[1;33m\u001b[0m\u001b[0m\n\u001b[0m\u001b[0;32m    214\u001b[0m \u001b[1;33m\u001b[0m\u001b[0m\n\u001b[0;32m    215\u001b[0m \u001b[1;32mdef\u001b[0m \u001b[0m_assertFinite\u001b[0m\u001b[1;33m(\u001b[0m\u001b[1;33m*\u001b[0m\u001b[0marrays\u001b[0m\u001b[1;33m)\u001b[0m\u001b[1;33m:\u001b[0m\u001b[1;33m\u001b[0m\u001b[1;33m\u001b[0m\u001b[0m\n",
      "\u001b[1;31mLinAlgError\u001b[0m: Last 2 dimensions of the array must be square"
     ]
    }
   ],
   "source": [
    "# Vaš kôd ovdje\n",
    "linalg.inv(design_matrix).dot(y)"
   ]
  },
  {
   "cell_type": "markdown",
   "metadata": {},
   "source": [
    "### (e) "
   ]
  },
  {
   "cell_type": "markdown",
   "metadata": {},
   "source": [
    "Proučite klasu [`LinearRegression`](http://scikit-learn.org/stable/modules/generated/sklearn.linear_model.LinearRegression.html) iz modula [`sklearn.linear_model`](http://scikit-learn.org/stable/modules/classes.html#module-sklearn.linear_model). Uvjerite se da su težine koje izračunava ta funkcija (dostupne pomoću atributa `coef_` i `intercept_`) jednake onima koje ste izračunali gore. Izračunajte predikcije modela (metoda `predict`) i uvjerite se da je pogreška učenja identična onoj koju ste ranije izračunali."
   ]
  },
  {
   "cell_type": "code",
   "execution_count": 10,
   "metadata": {},
   "outputs": [],
   "source": [
    "from sklearn.linear_model import LinearRegression"
   ]
  },
  {
   "cell_type": "code",
   "execution_count": 11,
   "metadata": {},
   "outputs": [
    {
     "name": "stdout",
     "output_type": "stream",
     "text": [
      "[0.         0.45714286]\n",
      "2.2\n"
     ]
    },
    {
     "data": {
      "text/plain": [
       "2.042857142857143"
      ]
     },
     "execution_count": 11,
     "metadata": {},
     "output_type": "execute_result"
    }
   ],
   "source": [
    "# Vaš kôd ovdje\n",
    "reg = LinearRegression().fit(design_matrix, y)\n",
    "print(reg.coef_)\n",
    "print(reg.intercept_)\n",
    "\n",
    "y_predict = reg.predict(design_matrix)\n",
    "\n",
    "error = mean_squared_error(y, y_predict)\n",
    "error"
   ]
  },
  {
   "cell_type": "markdown",
   "metadata": {},
   "source": [
    "### 2. Polinomijalna regresija i utjecaj šuma"
   ]
  },
  {
   "cell_type": "markdown",
   "metadata": {},
   "source": [
    "### (a)\n",
    "\n",
    "Razmotrimo sada regresiju na većem broju primjera. Definirajte funkciju `make_labels(X, f, noise=0)` koja uzima matricu neoznačenih primjera $\\mathbf{X}_{N\\times n}$ te generira vektor njihovih oznaka $\\mathbf{y}_{N\\times 1}$. Oznake se generiraju kao $y^{(i)} = f(x^{(i)})+\\mathcal{N}(0,\\sigma^2)$, gdje je $f:\\mathbb{R}^n\\to\\mathbb{R}$ stvarna funkcija koja je generirala podatke (koja nam je u stvarnosti nepoznata), a $\\sigma$ je standardna devijacija Gaussovog šuma, definirana parametrom `noise`. Za generiranje šuma možete koristiti funkciju [`numpy.random.normal`](https://docs.scipy.org/doc/numpy-1.15.0/reference/generated/numpy.random.normal.html). \n",
    "\n",
    "Generirajte skup za učenje od $N=50$ primjera uniformno distribuiranih u intervalu $[-5,5]$ pomoću funkcije $f(x) = 5 + x -2 x^2 -5 x^3$ uz šum  $\\sigma=200$:"
   ]
  },
  {
   "cell_type": "code",
   "execution_count": 12,
   "metadata": {},
   "outputs": [],
   "source": [
    "from numpy.random import normal\n",
    "\n",
    "def make_labels(X, f, noise=0) :\n",
    "    # Vaš kôd ovdje\n",
    "    return np.array([f(x) + np.random.normal(scale = noise) for x in X])\n",
    "    "
   ]
  },
  {
   "cell_type": "code",
   "execution_count": 13,
   "metadata": {},
   "outputs": [],
   "source": [
    "def make_instances(x1, x2, N) :\n",
    "    return np.array([np.array([x]) for x in np.linspace(x1,x2,N)])"
   ]
  },
  {
   "cell_type": "markdown",
   "metadata": {},
   "source": [
    "Prikažite taj skup funkcijom [`scatter`](http://matplotlib.org/api/pyplot_api.html#matplotlib.pyplot.scatter)."
   ]
  },
  {
   "cell_type": "code",
   "execution_count": 14,
   "metadata": {},
   "outputs": [
    {
     "data": {
      "text/plain": [
       "<matplotlib.collections.PathCollection at 0x2aa19f15fc8>"
      ]
     },
     "execution_count": 14,
     "metadata": {},
     "output_type": "execute_result"
    },
    {
     "data": {
      "image/png": "[encoded data removed]",
      "text/plain": [
       "<Figure size 432x288 with 1 Axes>"
      ]
     },
     "metadata": {
      "needs_background": "light"
     },
     "output_type": "display_data"
    }
   ],
   "source": [
    "# Vaš kôd ovdje\n",
    "def f(x):\n",
    "    return 5 + x - 2*x**2 - 5*x**3\n",
    "\n",
    "x = make_instances(-5, 5, 50)\n",
    "y = make_labels(x, f, 200)\n",
    "\n",
    "plt.scatter(x, y, marker = 'o')"
   ]
  },
  {
   "cell_type": "markdown",
   "metadata": {},
   "source": [
    "### (b)"
   ]
  },
  {
   "cell_type": "markdown",
   "metadata": {},
   "source": [
    "Trenirajte model polinomijalne regresije stupnja $d=3$. Na istom grafikonu prikažite naučeni model $h(\\mathbf{x})=\\mathbf{w}^\\intercal\\tilde{\\mathbf{x}}$ i primjere za učenje. Izračunajte pogrešku učenja modela."
   ]
  },
  {
   "cell_type": "code",
   "execution_count": 15,
   "metadata": {
    "scrolled": true
   },
   "outputs": [
    {
     "data": {
      "text/plain": [
       "24704.997098220996"
      ]
     },
     "execution_count": 15,
     "metadata": {},
     "output_type": "execute_result"
    },
    {
     "data": {
      "image/png": "[encoded data removed]",
      "text/plain": [
       "<Figure size 432x288 with 1 Axes>"
      ]
     },
     "metadata": {
      "needs_background": "light"
     },
     "output_type": "display_data"
    }
   ],
   "source": [
    "# Vaš kôd ovdje    \n",
    "poly = PolynomialFeatures(3)\n",
    "phi = poly.fit_transform(x)\n",
    "\n",
    "w = linalg.pinv(phi).dot(y) \n",
    "\n",
    "h = np.dot(phi, w)\n",
    "\n",
    "plt.plot(x, h)\n",
    "plt.scatter(x, y, marker = 'o')\n",
    "    \n",
    "mean_squared_error(y, h)\n"
   ]
  },
  {
   "cell_type": "markdown",
   "metadata": {},
   "source": [
    "### 3. Odabir modela"
   ]
  },
  {
   "cell_type": "markdown",
   "metadata": {},
   "source": [
    "### (a)\n",
    "\n",
    "Na skupu podataka iz zadatka 2 trenirajte pet modela linearne regresije $\\mathcal{H}_d$ različite složenosti, gdje je $d$ stupanj polinoma, $d\\in\\{1,3,5,10,20\\}$. Prikažite na istome grafikonu skup za učenje i funkcije $h_d(\\mathbf{x})$ za svih pet modela (preporučujemo koristiti `plot` unutar `for` petlje). Izračunajte pogrešku učenja svakog od modela.\n",
    "\n",
    "**Q:** Koji model ima najmanju pogrešku učenja i zašto?"
   ]
  },
  {
   "cell_type": "code",
   "execution_count": 16,
   "metadata": {},
   "outputs": [
    {
     "name": "stdout",
     "output_type": "stream",
     "text": [
      "d = 1 , E = 40881.87907767264\n",
      "d = 3 , E = 24704.997098220996\n",
      "d = 5 , E = 24658.568127235518\n",
      "d = 10 , E = 21301.956178647513\n",
      "d = 20 , E = 17824.848726218348\n"
     ]
    },
    {
     "data": {
      "text/plain": [
       "<matplotlib.legend.Legend at 0x2aa1a00a608>"
      ]
     },
     "execution_count": 16,
     "metadata": {},
     "output_type": "execute_result"
    },
    {
     "data": {
      "image/png": "[encoded data removed]",
      "text/plain": [
       "<Figure size 432x288 with 1 Axes>"
      ]
     },
     "metadata": {
      "needs_background": "light"
     },
     "output_type": "display_data"
    }
   ],
   "source": [
    "# Vaš kôd ovdje\n",
    "plt.scatter(x, y, marker = 'o')\n",
    "\n",
    "for d in [1, 3, 5, 10, 20]:\n",
    "    poly = PolynomialFeatures(d)\n",
    "    phi = poly.fit_transform(x)\n",
    "    w = linalg.pinv(phi).dot(y)\n",
    "    h = np.dot(phi, w)\n",
    "    error = mean_squared_error(y, h)\n",
    "    print(\"d =\", + d, \", E =\", + error)\n",
    "    plt.plot(x, h, label = \"d = %d \" %d )\n",
    "\n",
    "plt.legend(loc=\"lower left\")"
   ]
  },
  {
   "cell_type": "markdown",
   "metadata": {},
   "source": [
    "### (b)"
   ]
  },
  {
   "cell_type": "markdown",
   "metadata": {},
   "source": [
    "Razdvojite skup primjera iz zadatka 2 pomoću funkcije [`model_selection.train_test_split`](https://scikit-learn.org/stable/modules/generated/sklearn.model_selection.train_test_split.html) na skup za učenja i skup za ispitivanje u omjeru 1:1. Prikažite na jednom grafikonu pogrešku učenja i ispitnu pogrešku za modele polinomijalne regresije $\\mathcal{H}_d$, sa stupnjem polinoma $d$ u rasponu $d\\in [1,2,\\ldots,20]$. Budući da kvadratna pogreška brzo raste za veće stupnjeve polinoma, umjesto da iscrtate izravno iznose pogrešaka, iscrtajte njihove logaritme.\n",
    "\n",
    "**NB:** Podjela na skupa za učenje i skup za ispitivanje mora za svih pet modela biti identična.\n",
    "\n",
    "**Q:** Je li rezultat u skladu s očekivanjima? Koji biste model odabrali i zašto?\n",
    "\n",
    "**Q:** Pokrenite iscrtavanje više puta. U čemu je problem? Bi li problem bio jednako izražen kad bismo imali više primjera? Zašto?"
   ]
  },
  {
   "cell_type": "code",
   "execution_count": 17,
   "metadata": {},
   "outputs": [],
   "source": [
    "from sklearn.model_selection import train_test_split"
   ]
  },
  {
   "cell_type": "code",
   "execution_count": 18,
   "metadata": {},
   "outputs": [
    {
     "data": {
      "text/plain": [
       "<matplotlib.legend.Legend at 0x2aa1a015708>"
      ]
     },
     "execution_count": 18,
     "metadata": {},
     "output_type": "execute_result"
    },
    {
     "data": {
      "image/png": "[encoded data removed]",
      "text/plain": [
       "<Figure size 432x288 with 1 Axes>"
      ]
     },
     "metadata": {
      "needs_background": "light"
     },
     "output_type": "display_data"
    }
   ],
   "source": [
    "# Vaš kôd ovdje\n",
    "x_train, x_test, y_train, y_test = train_test_split(x, y, test_size = 0.5)\n",
    "\n",
    "train_error = []\n",
    "test_error = []\n",
    "\n",
    "def calculate_error(w, x, y):\n",
    "    h = np.dot(poly.fit_transform(x), w)\n",
    "    error = mean_squared_error(y, h)\n",
    "    return error\n",
    "\n",
    "for i in range(1,21):\n",
    "    poly = PolynomialFeatures(i)\n",
    "    phi = poly.fit_transform(x_train)\n",
    "    w = linalg.pinv(phi).dot(y_train)\n",
    "    \n",
    "    train_error.append(calculate_error(w, x_train, y_train))\n",
    "    test_error.append(calculate_error(w, x_test, y_test))\n",
    "\n",
    "plt.plot(range(20), log(train_error), label = \"train error\")\n",
    "plt.plot(range(20), log(test_error), label = \"test error\")\n",
    "plt.legend(loc=\"lower left\")"
   ]
  },
  {
   "cell_type": "markdown",
   "metadata": {},
   "source": [
    "### (c)"
   ]
  },
  {
   "cell_type": "markdown",
   "metadata": {},
   "source": [
    "Točnost modela ovisi o (1) njegovoj složenosti (stupanj $d$ polinoma), (2) broju primjera $N$, i (3) količini šuma. Kako biste to analizirali, nacrtajte grafikone pogrešaka kao u 3b, ali za različit $N\\in$ (trećina, dvije trećine, sve) i količine šuma $\\sigma\\in\\{100,200,500\\}$ (ukupno 9 grafikona). Upotrijebite funkciju [`subplots`](http://matplotlib.org/examples/pylab_examples/subplots_demo.html) kako biste pregledno posložili grafikone u tablicu $3\\times 3$. Podatci se generiraju na isti način kao u zadatku 2.\n",
    "\n",
    "**NB:** Pobrinite se da svi grafikoni budu generirani nad usporedivim skupovima podataka, na sljedeći način. Generirajte najprije svih 1000 primjera, podijelite ih na skupove za učenje i skupove za ispitivanje (dva skupa od po 500 primjera). Zatim i od skupa za učenje i od skupa za ispitivanje načinite tri različite verzije, svaka s drugačijom količinom šuma (ukupno 2x3=6 verzija podataka). Kako bi simulirali veličinu skupa podataka, od tih dobivenih 6 skupova podataka uzorkujte trećinu, dvije trećine i sve podatke. Time ste dobili 18 skupova podataka -- skup za učenje i za testiranje za svaki od devet grafova."
   ]
  },
  {
   "cell_type": "code",
   "execution_count": 19,
   "metadata": {},
   "outputs": [
    {
     "data": {
      "image/png": "[encoded data removed]",
      "text/plain": [
       "<Figure size 432x288 with 9 Axes>"
      ]
     },
     "metadata": {
      "needs_background": "light"
     },
     "output_type": "display_data"
    }
   ],
   "source": [
    "# Vaš kôd ovdje\n",
    "\n",
    "x = make_instances(-5, 5, 1000)\n",
    "x_train, x_test = train_test_split(x, test_size = 0.5)\n",
    "\n",
    "x_train_100, x_train_to_split = train_test_split(x_train, test_size = 1/3)\n",
    "x_train_200, x_train_500 = train_test_split(x_train_to_split, test_size = 0.5)\n",
    "\n",
    "y_train_100 = make_labels(x_train_100, f, 100)\n",
    "y_train_200 = make_labels(x_train_200, f, 200)\n",
    "y_train_500 = make_labels(x_train_500, f, 500)\n",
    "\n",
    "x_test_100, x_test_to_split = train_test_split(x_test, test_size = 1/3)\n",
    "x_test_200, x_test_500 = train_test_split(x_test_to_split, test_size = 0.5)\n",
    "\n",
    "y_test_100 = make_labels(x_test_100, f, 100)\n",
    "y_test_200 = make_labels(x_test_200, f, 200)\n",
    "y_test_500 = make_labels(x_test_500, f, 500)\n",
    "\n",
    "global plot_number\n",
    "plot_number = 0\n",
    "for k in [1./3, 2./3, 1]:\n",
    "    #sum = 100\n",
    "\n",
    "    train_error = []\n",
    "    test_error = []\n",
    "\n",
    "    for i in range(1,21):\n",
    "        poly = PolynomialFeatures(i)\n",
    "        phi = poly.fit_transform(x_train_100[:int(k*len(x_train_100))])\n",
    "        w = linalg.pinv(phi).dot(y_train_100[:int(k*len(y_train_100))])\n",
    "    \n",
    "        train_error.append(calculate_error(w, x_train_100[:int(k*len(x_train_100))], y_train_100[:int(k*len(y_train_100))] ))\n",
    "        test_error.append(calculate_error(w, x_test_100[:int(k*len(x_test_100))], y_test_100[:int(k*len(y_test_100))]))\n",
    "\n",
    "    plot_number += 1\n",
    "    plt.subplot(3, 3, plot_number)\n",
    "    plt.title(\"%dN, sum = 100\" %k)\n",
    "    plt.plot(range(20), log(train_error), label = \"train error\")\n",
    "    plt.plot(range(20), log(test_error), label = \"test error\")\n",
    "    plt.legend(loc=\"lower left\")\n",
    "\n",
    "    #sum = 200\n",
    "\n",
    "    train_error = []\n",
    "    test_error = []\n",
    "\n",
    "    for i in range(1,21):\n",
    "        poly = PolynomialFeatures(i)\n",
    "        phi = poly.fit_transform(x_train_200[:int(k*len(x_train_200))])\n",
    "        w = linalg.pinv(phi).dot(y_train_200[:int(k*len(y_train_200))])\n",
    "    \n",
    "        train_error.append(calculate_error(w, x_train_200[:int(k*len(x_train_200))], y_train_200[:int(k*len(y_train_200))] ))\n",
    "        test_error.append(calculate_error(w, x_test_200[:int(k*len(x_test_200))], y_test_200[:int(k*len(y_test_200))]))\n",
    "    \n",
    "    plot_number += 1\n",
    "    plt.subplot(3, 3, plot_number)\n",
    "    plt.title(\"%dN, sum = 200\" %k)\n",
    "    plt.plot(range(20), log(train_error), label = \"train error\")\n",
    "    plt.plot(range(20), log(test_error), label = \"test error\")\n",
    "    plt.legend(loc=\"lower left\")\n",
    "\n",
    "    #sum = 500\n",
    "\n",
    "    train_error = []\n",
    "    test_error = []\n",
    "\n",
    "    for i in range(1,21):\n",
    "        poly = PolynomialFeatures(i)\n",
    "        phi = poly.fit_transform(x_train_500[:int(k*len(x_train_500))])\n",
    "        w = linalg.pinv(phi).dot(y_train_500[:int(k*len(y_train_500))])\n",
    "    \n",
    "        train_error.append(calculate_error(w, x_train_500[:int(k*len(x_train_500))], y_train_500[:int(k*len(y_train_500))] ))\n",
    "        test_error.append(calculate_error(w, x_test_500[:int(k*len(x_test_500))], y_test_500[:int(k*len(y_test_500))]))\n",
    "    \n",
    "    plot_number += 1\n",
    "    plt.subplot(3, 3, plot_number)\n",
    "    plt.title(\"%dN, sum = 500\" %k)\n",
    "    plt.plot(range(20), log(train_error), label = \"train error\")\n",
    "    plt.plot(range(20), log(test_error), label = \"test error\")\n",
    "    plt.legend(loc=\"lower left\")\n",
    "\n",
    "\n",
    "\n",
    "\n",
    "\n"
   ]
  },
  {
   "cell_type": "markdown",
   "metadata": {},
   "source": [
    "***Q:*** Jesu li rezultati očekivani? Obrazložite."
   ]
  },
  {
   "cell_type": "markdown",
   "metadata": {},
   "source": [
    "### 4. Regularizirana regresija"
   ]
  },
  {
   "cell_type": "markdown",
   "metadata": {},
   "source": [
    "### (a)\n",
    "\n",
    "U gornjim eksperimentima nismo koristili **regularizaciju**. Vratimo se najprije na primjer iz zadatka 1. Na primjerima iz tog zadatka izračunajte težine $\\mathbf{w}$ za polinomijalni regresijski model stupnja $d=3$ uz L2-regularizaciju (tzv. *ridge regression*), prema izrazu $\\mathbf{w}=(\\mathbf{\\Phi}^\\intercal\\mathbf{\\Phi}+\\lambda\\mathbf{I})^{-1}\\mathbf{\\Phi}^\\intercal\\mathbf{y}$. Napravite izračun težina za regularizacijske faktore $\\lambda=0$, $\\lambda=1$ i $\\lambda=10$ te usporedite dobivene težine.\n",
    "\n",
    "**Q:** Kojih je dimenzija matrica koju treba invertirati?\n",
    "\n",
    "**Q:** Po čemu se razlikuju dobivene težine i je li ta razlika očekivana? Obrazložite."
   ]
  },
  {
   "cell_type": "code",
   "execution_count": 20,
   "metadata": {},
   "outputs": [
    {
     "name": "stdout",
     "output_type": "stream",
     "text": [
      "[ 4.         -5.91666667  3.375      -0.45833333]\n",
      "[ 3.05696145 -0.69079365 -0.2831746   0.1445805 ]\n",
      "[ 2.49444184 -0.15897295 -0.13423067  0.0815601 ]\n"
     ]
    }
   ],
   "source": [
    "# Vaš kôd ovdje\n",
    "y = np.array([4,1,2,5])\n",
    "poly = PolynomialFeatures(3)\n",
    "phi = poly.fit_transform(X)\n",
    "I = np.eye(4)\n",
    "I[0][0] = 0\n",
    "\n",
    "for reg in [0, 1, 10]:\n",
    "    phi_t = np.transpose(phi)\n",
    "    inverse = linalg.inv(phi_t.dot(phi) + reg * I)\n",
    "    w = inverse.dot(phi_t).dot(y)\n",
    "    print(w)"
   ]
  },
  {
   "cell_type": "markdown",
   "metadata": {},
   "source": [
    "### (b)"
   ]
  },
  {
   "cell_type": "markdown",
   "metadata": {},
   "source": [
    "Proučite klasu [`Ridge`](http://scikit-learn.org/stable/modules/generated/sklearn.linear_model.Ridge.html#sklearn.linear_model.Ridge) iz modula [`sklearn.linear_model`](http://scikit-learn.org/stable/modules/classes.html#module-sklearn.linear_model), koja implementira L2-regularizirani regresijski model. Parametar $\\alpha$ odgovara parametru $\\lambda$. Primijenite model na istim primjerima kao u prethodnom zadatku i ispišite težine $\\mathbf{w}$ (atributi `coef_` i `intercept_`).\n",
    "\n",
    "**Q:** Jesu li težine identične onima iz zadatka 4a? Ako nisu, objasnite zašto je to tako i kako biste to popravili."
   ]
  },
  {
   "cell_type": "code",
   "execution_count": 21,
   "metadata": {},
   "outputs": [],
   "source": [
    "from sklearn.linear_model import Ridge"
   ]
  },
  {
   "cell_type": "code",
   "execution_count": 22,
   "metadata": {},
   "outputs": [
    {
     "name": "stdout",
     "output_type": "stream",
     "text": [
      "[ 0.         -5.91666667  3.375      -0.45833333]\n",
      "3.999999999999943\n",
      "[ 0.         -0.69079365 -0.2831746   0.1445805 ]\n",
      "3.0569614512471643\n",
      "[ 0.         -0.15897295 -0.13423067  0.0815601 ]\n",
      "2.4944418431229733\n"
     ]
    }
   ],
   "source": [
    "# Vaš kôd ovdje\n",
    "for reg in [0, 1, 10]:\n",
    "    clf = Ridge(alpha = reg)\n",
    "    w = clf.fit(phi, y)\n",
    "    print(w.coef_)\n",
    "    print(w.intercept_)\n",
    "    "
   ]
  },
  {
   "cell_type": "markdown",
   "metadata": {},
   "source": [
    "### 5. Regularizirana polinomijalna regresija"
   ]
  },
  {
   "cell_type": "markdown",
   "metadata": {},
   "source": [
    "### (a)\n",
    "\n",
    "Vratimo se na slučaj $N=50$ slučajno generiranih primjera iz zadatka 2. Trenirajte modele polinomijalne regresije $\\mathcal{H}_{\\lambda,d}$ za $\\lambda\\in\\{0,100\\}$ i $d\\in\\{2,10\\}$ (ukupno četiri modela). Skicirajte pripadne funkcije $h(\\mathbf{x})$ i primjere (na jednom grafikonu; preporučujemo koristiti `plot` unutar `for` petlje).\n",
    "\n",
    "**Q:** Jesu li rezultati očekivani? Obrazložite."
   ]
  },
  {
   "cell_type": "code",
   "execution_count": 23,
   "metadata": {},
   "outputs": [
    {
     "data": {
      "text/plain": [
       "<matplotlib.legend.Legend at 0x2aa1a4665c8>"
      ]
     },
     "execution_count": 23,
     "metadata": {},
     "output_type": "execute_result"
    },
    {
     "data": {
      "image/png": "[encoded data removed]",
      "text/plain": [
       "<Figure size 432x288 with 1 Axes>"
      ]
     },
     "metadata": {
      "needs_background": "light"
     },
     "output_type": "display_data"
    }
   ],
   "source": [
    "# Vaš kôd ovdje\n",
    "\n",
    "x = make_instances(-5, 5, 50)\n",
    "y = make_labels(x, f, 200)\n",
    "\n",
    "plt.scatter(x, y, marker = 'o')\n",
    "\n",
    "for d in [2, 10]:\n",
    "    poly = PolynomialFeatures(d)\n",
    "    phi = poly.fit_transform(x)\n",
    "    I = np.eye(d + 1)\n",
    "    I[0][0] = 0\n",
    "    for reg in [0, 100]:\n",
    "        phi_t = np.transpose(phi)\n",
    "        inverse = linalg.inv(phi_t.dot(phi) + reg * I)\n",
    "        w = inverse.dot(phi_t).dot(y)\n",
    "        h = phi.dot(w)\n",
    "        label = \"d =\", +d, \"lambda =\", +reg\n",
    "        plt.plot(x, h, label = label )\n",
    "\n",
    "plt.legend(loc=\"lower left\")\n",
    "        \n",
    "        "
   ]
  },
  {
   "cell_type": "markdown",
   "metadata": {},
   "source": [
    "### (b)\n",
    "\n",
    "Kao u zadataku 3b, razdvojite primjere na skup za učenje i skup za ispitivanje u omjeru 1:1. Prikažite krivulje logaritama pogreške učenja i ispitne pogreške u ovisnosti za model $\\mathcal{H}_{d=10,\\lambda}$, podešavajući faktor regularizacije $\\lambda$ u rasponu $\\lambda\\in\\{0,1,\\dots,50\\}$.\n",
    "\n",
    "**Q:** Kojoj strani na grafikonu odgovara područje prenaučenosti, a kojoj podnaučenosti? Zašto?\n",
    "\n",
    "**Q:** Koju biste vrijednosti za $\\lambda$ izabrali na temelju ovih grafikona i zašto?\n"
   ]
  },
  {
   "cell_type": "code",
   "execution_count": 24,
   "metadata": {},
   "outputs": [
    {
     "data": {
      "text/plain": [
       "<matplotlib.legend.Legend at 0x2aa1a4c8f08>"
      ]
     },
     "execution_count": 24,
     "metadata": {},
     "output_type": "execute_result"
    },
    {
     "data": {
      "image/png": "[encoded data removed]",
      "text/plain": [
       "<Figure size 432x288 with 1 Axes>"
      ]
     },
     "metadata": {
      "needs_background": "light"
     },
     "output_type": "display_data"
    }
   ],
   "source": [
    "# Vaš kôd ovdje\n",
    "def calculate_error(w, x, y):\n",
    "    h = np.dot(poly.fit_transform(x), w)\n",
    "    error = mean_squared_error(y, h)\n",
    "    return error\n",
    "\n",
    "x = make_instances(-5, 5, 50)\n",
    "y = make_labels(x, f, 200)\n",
    "x_train, x_test, y_train, y_test = train_test_split(x, y, test_size = 0.5)\n",
    "\n",
    "train_error = []\n",
    "test_error = []\n",
    "\n",
    "poly = PolynomialFeatures(10)\n",
    "phi = poly.fit_transform(x_train)\n",
    "phi_t = np.transpose(phi)\n",
    "I = np.eye(11)\n",
    "I[0][0] = 0\n",
    "\n",
    "for reg in range(0, 51):\n",
    "    inverse = linalg.inv(phi_t.dot(phi) + reg * I)\n",
    "    w = inverse.dot(phi_t).dot(y_train)\n",
    "    \n",
    "    train_error.append(calculate_error(w, x_train, y_train))\n",
    "    test_error.append(calculate_error(w, x_test, y_test))\n",
    "\n",
    "plt.plot(range(51), log(train_error), label = \"train error\")\n",
    "plt.plot(range(51), log(test_error), label = \"test error\")\n",
    "plt.legend(loc=\"lower left\")\n"
   ]
  },
  {
   "cell_type": "markdown",
   "metadata": {},
   "source": [
    "### 6. L1-regularizacija i L2-regularizacija"
   ]
  },
  {
   "cell_type": "markdown",
   "metadata": {},
   "source": [
    "Svrha regularizacije jest potiskivanje težina modela $\\mathbf{w}$ prema nuli, kako bi model bio što jednostavniji. Složenost modela može se okarakterizirati normom pripadnog vektora težina $\\mathbf{w}$, i to tipično L2-normom ili L1-normom. Za jednom trenirani model možemo izračunati i broj ne-nul značajki, ili L0-normu, pomoću sljedeće funkcije koja prima vektor težina $\\mathbf{w}$:"
   ]
  },
  {
   "cell_type": "code",
   "execution_count": 25,
   "metadata": {},
   "outputs": [],
   "source": [
    "def nonzeroes(coef, tol=1e-6): \n",
    "    return len(coef) - len(coef[np.isclose(0, coef, atol=tol)])"
   ]
  },
  {
   "cell_type": "markdown",
   "metadata": {},
   "source": [
    "### (a)\n",
    "\n",
    "Za ovaj zadatak upotrijebite skup za učenje i skup za testiranje iz zadatka 3b. Trenirajte modele **L2-regularizirane** polinomijalne regresije stupnja $d=10$, mijenjajući hiperparametar $\\lambda$ u rasponu $\\{1,2,\\dots,100\\}$. Za svaki od treniranih modela izračunajte L{0,1,2}-norme vektora težina $\\mathbf{w}$ te ih prikažite kao funkciju od $\\lambda$. Pripazite što točno šaljete u funkciju za izračun normi.\n",
    "\n",
    "**Q:** Objasnite oblik obiju krivulja. Hoće li krivulja za $\\|\\mathbf{w}\\|_2$ doseći nulu? Zašto? Je li to problem? Zašto?\n",
    "\n",
    "**Q:** Za $\\lambda=100$, koliki je postotak težina modela jednak nuli, odnosno koliko je model rijedak?"
   ]
  },
  {
   "cell_type": "code",
   "execution_count": 26,
   "metadata": {},
   "outputs": [
    {
     "data": {
      "text/plain": [
       "<matplotlib.legend.Legend at 0x2aa1a3a44c8>"
      ]
     },
     "execution_count": 26,
     "metadata": {},
     "output_type": "execute_result"
    },
    {
     "data": {
      "image/png": "[encoded data removed]",
      "text/plain": [
       "<Figure size 432x288 with 1 Axes>"
      ]
     },
     "metadata": {
      "needs_background": "light"
     },
     "output_type": "display_data"
    }
   ],
   "source": [
    "# Vaš kôd ovdje\n",
    "x = make_instances(-5, 5, 50)\n",
    "y = make_labels(x, f, 200)\n",
    "\n",
    "x_train, x_test, y_train, y_test = train_test_split(x, y, test_size = 0.5)\n",
    "\n",
    "def calculate_L1(w):\n",
    "    return sum(absolute(w))\n",
    "\n",
    "def calculate_L2(w):\n",
    "    return sum(w.dot(transpose(w)))**0.5\n",
    "\n",
    "poly = PolynomialFeatures(10)\n",
    "phi = poly.fit_transform(x_train)\n",
    "phi_t = np.transpose(phi)\n",
    "I = np.eye(11)\n",
    "I[0][0] = 0\n",
    "\n",
    "L0 = []\n",
    "L1 = []\n",
    "L2 = []\n",
    "\n",
    "for reg in range(0, 101):\n",
    "    inverse = linalg.inv(phi_t.dot(phi) + reg * I)\n",
    "    w = inverse.dot(phi_t).dot(y_train)\n",
    "    L0.append(nonzeroes(w))\n",
    "    L1.append(calculate_L1(w))\n",
    "    L2.append(calculate_L2(w))\n",
    "    \n",
    "    \n",
    "plt.plot(range(101), L0, label = \"L0\")\n",
    "plt.plot(range(101), L1, label = \"L1\")\n",
    "plt.plot(range(101), L2, label = \"L2\")\n",
    "plt.legend(loc=\"lower left\")\n"
   ]
  },
  {
   "cell_type": "markdown",
   "metadata": {},
   "source": [
    "Glavna prednost L1-regularizirane regresije (ili *LASSO regression*) nad L2-regulariziranom regresijom jest u tome što L1-regularizirana regresija rezultira **rijetkim modelima** (engl. *sparse models*), odnosno modelima kod kojih su mnoge težine pritegnute na nulu. Pokažite da je to doista tako, ponovivši gornji eksperiment s **L1-regulariziranom** regresijom, implementiranom u klasi  [`Lasso`](http://scikit-learn.org/stable/modules/generated/sklearn.linear_model.Lasso.html) u modulu [`sklearn.linear_model`](http://scikit-learn.org/stable/modules/classes.html#module-sklearn.linear_model). Zanemarite upozorenja."
   ]
  },
  {
   "cell_type": "markdown",
   "metadata": {},
   "source": [
    "### (b)"
   ]
  },
  {
   "cell_type": "code",
   "execution_count": 27,
   "metadata": {},
   "outputs": [
    {
     "name": "stderr",
     "output_type": "stream",
     "text": [
      "C:\\Users\\barzi\\Anaconda3\\lib\\site-packages\\ipykernel_launcher.py:23: UserWarning: With alpha=0, this algorithm does not converge well. You are advised to use the LinearRegression estimator\n",
      "C:\\Users\\barzi\\Anaconda3\\lib\\site-packages\\sklearn\\linear_model\\coordinate_descent.py:475: UserWarning: Coordinate descent with no regularization may lead to unexpected results and is discouraged.\n",
      "  positive)\n",
      "C:\\Users\\barzi\\Anaconda3\\lib\\site-packages\\sklearn\\linear_model\\coordinate_descent.py:475: ConvergenceWarning: Objective did not converge. You might want to increase the number of iterations. Duality gap: 324649.62526090676, tolerance: 226.18969507999748\n",
      "  positive)\n",
      "C:\\Users\\barzi\\Anaconda3\\lib\\site-packages\\sklearn\\linear_model\\coordinate_descent.py:475: ConvergenceWarning: Objective did not converge. You might want to increase the number of iterations. Duality gap: 328279.0602671224, tolerance: 226.18969507999748\n",
      "  positive)\n",
      "C:\\Users\\barzi\\Anaconda3\\lib\\site-packages\\sklearn\\linear_model\\coordinate_descent.py:475: ConvergenceWarning: Objective did not converge. You might want to increase the number of iterations. Duality gap: 331704.4205703937, tolerance: 226.18969507999748\n",
      "  positive)\n",
      "C:\\Users\\barzi\\Anaconda3\\lib\\site-packages\\sklearn\\linear_model\\coordinate_descent.py:475: ConvergenceWarning: Objective did not converge. You might want to increase the number of iterations. Duality gap: 334939.5715597481, tolerance: 226.18969507999748\n",
      "  positive)\n",
      "C:\\Users\\barzi\\Anaconda3\\lib\\site-packages\\sklearn\\linear_model\\coordinate_descent.py:475: ConvergenceWarning: Objective did not converge. You might want to increase the number of iterations. Duality gap: 338018.0355819757, tolerance: 226.18969507999748\n",
      "  positive)\n",
      "C:\\Users\\barzi\\Anaconda3\\lib\\site-packages\\sklearn\\linear_model\\coordinate_descent.py:475: ConvergenceWarning: Objective did not converge. You might want to increase the number of iterations. Duality gap: 341122.28352187097, tolerance: 226.18969507999748\n",
      "  positive)\n",
      "C:\\Users\\barzi\\Anaconda3\\lib\\site-packages\\sklearn\\linear_model\\coordinate_descent.py:475: ConvergenceWarning: Objective did not converge. You might want to increase the number of iterations. Duality gap: 344107.71813251654, tolerance: 226.18969507999748\n",
      "  positive)\n",
      "C:\\Users\\barzi\\Anaconda3\\lib\\site-packages\\sklearn\\linear_model\\coordinate_descent.py:475: ConvergenceWarning: Objective did not converge. You might want to increase the number of iterations. Duality gap: 346945.1711409415, tolerance: 226.18969507999748\n",
      "  positive)\n",
      "C:\\Users\\barzi\\Anaconda3\\lib\\site-packages\\sklearn\\linear_model\\coordinate_descent.py:475: ConvergenceWarning: Objective did not converge. You might want to increase the number of iterations. Duality gap: 349667.1005959131, tolerance: 226.18969507999748\n",
      "  positive)\n",
      "C:\\Users\\barzi\\Anaconda3\\lib\\site-packages\\sklearn\\linear_model\\coordinate_descent.py:475: ConvergenceWarning: Objective did not converge. You might want to increase the number of iterations. Duality gap: 352273.47809312784, tolerance: 226.18969507999748\n",
      "  positive)\n",
      "C:\\Users\\barzi\\Anaconda3\\lib\\site-packages\\sklearn\\linear_model\\coordinate_descent.py:475: ConvergenceWarning: Objective did not converge. You might want to increase the number of iterations. Duality gap: 354764.07701910683, tolerance: 226.18969507999748\n",
      "  positive)\n",
      "C:\\Users\\barzi\\Anaconda3\\lib\\site-packages\\sklearn\\linear_model\\coordinate_descent.py:475: ConvergenceWarning: Objective did not converge. You might want to increase the number of iterations. Duality gap: 357162.3657438413, tolerance: 226.18969507999748\n",
      "  positive)\n",
      "C:\\Users\\barzi\\Anaconda3\\lib\\site-packages\\sklearn\\linear_model\\coordinate_descent.py:475: ConvergenceWarning: Objective did not converge. You might want to increase the number of iterations. Duality gap: 359453.8606456351, tolerance: 226.18969507999748\n",
      "  positive)\n",
      "C:\\Users\\barzi\\Anaconda3\\lib\\site-packages\\sklearn\\linear_model\\coordinate_descent.py:475: ConvergenceWarning: Objective did not converge. You might want to increase the number of iterations. Duality gap: 361629.4507097017, tolerance: 226.18969507999748\n",
      "  positive)\n",
      "C:\\Users\\barzi\\Anaconda3\\lib\\site-packages\\sklearn\\linear_model\\coordinate_descent.py:475: ConvergenceWarning: Objective did not converge. You might want to increase the number of iterations. Duality gap: 363691.45568534796, tolerance: 226.18969507999748\n",
      "  positive)\n",
      "C:\\Users\\barzi\\Anaconda3\\lib\\site-packages\\sklearn\\linear_model\\coordinate_descent.py:475: ConvergenceWarning: Objective did not converge. You might want to increase the number of iterations. Duality gap: 365640.8697998758, tolerance: 226.18969507999748\n",
      "  positive)\n",
      "C:\\Users\\barzi\\Anaconda3\\lib\\site-packages\\sklearn\\linear_model\\coordinate_descent.py:475: ConvergenceWarning: Objective did not converge. You might want to increase the number of iterations. Duality gap: 367477.86557697575, tolerance: 226.18969507999748\n",
      "  positive)\n",
      "C:\\Users\\barzi\\Anaconda3\\lib\\site-packages\\sklearn\\linear_model\\coordinate_descent.py:475: ConvergenceWarning: Objective did not converge. You might want to increase the number of iterations. Duality gap: 369202.1291979596, tolerance: 226.18969507999748\n",
      "  positive)\n",
      "C:\\Users\\barzi\\Anaconda3\\lib\\site-packages\\sklearn\\linear_model\\coordinate_descent.py:475: ConvergenceWarning: Objective did not converge. You might want to increase the number of iterations. Duality gap: 370813.67525261326, tolerance: 226.18969507999748\n",
      "  positive)\n",
      "C:\\Users\\barzi\\Anaconda3\\lib\\site-packages\\sklearn\\linear_model\\coordinate_descent.py:475: ConvergenceWarning: Objective did not converge. You might want to increase the number of iterations. Duality gap: 372311.75497528753, tolerance: 226.18969507999748\n",
      "  positive)\n",
      "C:\\Users\\barzi\\Anaconda3\\lib\\site-packages\\sklearn\\linear_model\\coordinate_descent.py:475: ConvergenceWarning: Objective did not converge. You might want to increase the number of iterations. Duality gap: 373748.062996328, tolerance: 226.18969507999748\n",
      "  positive)\n",
      "C:\\Users\\barzi\\Anaconda3\\lib\\site-packages\\sklearn\\linear_model\\coordinate_descent.py:475: ConvergenceWarning: Objective did not converge. You might want to increase the number of iterations. Duality gap: 375273.3208409538, tolerance: 226.18969507999748\n",
      "  positive)\n",
      "C:\\Users\\barzi\\Anaconda3\\lib\\site-packages\\sklearn\\linear_model\\coordinate_descent.py:475: ConvergenceWarning: Objective did not converge. You might want to increase the number of iterations. Duality gap: 376806.59247341345, tolerance: 226.18969507999748\n",
      "  positive)\n",
      "C:\\Users\\barzi\\Anaconda3\\lib\\site-packages\\sklearn\\linear_model\\coordinate_descent.py:475: ConvergenceWarning: Objective did not converge. You might want to increase the number of iterations. Duality gap: 378313.87811552, tolerance: 226.18969507999748\n",
      "  positive)\n",
      "C:\\Users\\barzi\\Anaconda3\\lib\\site-packages\\sklearn\\linear_model\\coordinate_descent.py:475: ConvergenceWarning: Objective did not converge. You might want to increase the number of iterations. Duality gap: 379785.0581765641, tolerance: 226.18969507999748\n",
      "  positive)\n",
      "C:\\Users\\barzi\\Anaconda3\\lib\\site-packages\\sklearn\\linear_model\\coordinate_descent.py:475: ConvergenceWarning: Objective did not converge. You might want to increase the number of iterations. Duality gap: 381213.2945146572, tolerance: 226.18969507999748\n",
      "  positive)\n",
      "C:\\Users\\barzi\\Anaconda3\\lib\\site-packages\\sklearn\\linear_model\\coordinate_descent.py:475: ConvergenceWarning: Objective did not converge. You might want to increase the number of iterations. Duality gap: 382595.7715263371, tolerance: 226.18969507999748\n",
      "  positive)\n",
      "C:\\Users\\barzi\\Anaconda3\\lib\\site-packages\\sklearn\\linear_model\\coordinate_descent.py:475: ConvergenceWarning: Objective did not converge. You might want to increase the number of iterations. Duality gap: 383929.8995407842, tolerance: 226.18969507999748\n",
      "  positive)\n",
      "C:\\Users\\barzi\\Anaconda3\\lib\\site-packages\\sklearn\\linear_model\\coordinate_descent.py:475: ConvergenceWarning: Objective did not converge. You might want to increase the number of iterations. Duality gap: 385216.6378293895, tolerance: 226.18969507999748\n",
      "  positive)\n",
      "C:\\Users\\barzi\\Anaconda3\\lib\\site-packages\\sklearn\\linear_model\\coordinate_descent.py:475: ConvergenceWarning: Objective did not converge. You might want to increase the number of iterations. Duality gap: 386454.3338921817, tolerance: 226.18969507999748\n",
      "  positive)\n",
      "C:\\Users\\barzi\\Anaconda3\\lib\\site-packages\\sklearn\\linear_model\\coordinate_descent.py:475: ConvergenceWarning: Objective did not converge. You might want to increase the number of iterations. Duality gap: 387641.7640151873, tolerance: 226.18969507999748\n",
      "  positive)\n",
      "C:\\Users\\barzi\\Anaconda3\\lib\\site-packages\\sklearn\\linear_model\\coordinate_descent.py:475: ConvergenceWarning: Objective did not converge. You might want to increase the number of iterations. Duality gap: 388780.2983877528, tolerance: 226.18969507999748\n",
      "  positive)\n",
      "C:\\Users\\barzi\\Anaconda3\\lib\\site-packages\\sklearn\\linear_model\\coordinate_descent.py:475: ConvergenceWarning: Objective did not converge. You might want to increase the number of iterations. Duality gap: 389868.9092606936, tolerance: 226.18969507999748\n",
      "  positive)\n",
      "C:\\Users\\barzi\\Anaconda3\\lib\\site-packages\\sklearn\\linear_model\\coordinate_descent.py:475: ConvergenceWarning: Objective did not converge. You might want to increase the number of iterations. Duality gap: 390906.9287582191, tolerance: 226.18969507999748\n",
      "  positive)\n",
      "C:\\Users\\barzi\\Anaconda3\\lib\\site-packages\\sklearn\\linear_model\\coordinate_descent.py:475: ConvergenceWarning: Objective did not converge. You might want to increase the number of iterations. Duality gap: 391894.7145929782, tolerance: 226.18969507999748\n",
      "  positive)\n",
      "C:\\Users\\barzi\\Anaconda3\\lib\\site-packages\\sklearn\\linear_model\\coordinate_descent.py:475: ConvergenceWarning: Objective did not converge. You might want to increase the number of iterations. Duality gap: 392832.2821648516, tolerance: 226.18969507999748\n",
      "  positive)\n",
      "C:\\Users\\barzi\\Anaconda3\\lib\\site-packages\\sklearn\\linear_model\\coordinate_descent.py:475: ConvergenceWarning: Objective did not converge. You might want to increase the number of iterations. Duality gap: 393719.5708876149, tolerance: 226.18969507999748\n",
      "  positive)\n",
      "C:\\Users\\barzi\\Anaconda3\\lib\\site-packages\\sklearn\\linear_model\\coordinate_descent.py:475: ConvergenceWarning: Objective did not converge. You might want to increase the number of iterations. Duality gap: 394556.4850722806, tolerance: 226.18969507999748\n",
      "  positive)\n",
      "C:\\Users\\barzi\\Anaconda3\\lib\\site-packages\\sklearn\\linear_model\\coordinate_descent.py:475: ConvergenceWarning: Objective did not converge. You might want to increase the number of iterations. Duality gap: 395342.9459957433, tolerance: 226.18969507999748\n",
      "  positive)\n",
      "C:\\Users\\barzi\\Anaconda3\\lib\\site-packages\\sklearn\\linear_model\\coordinate_descent.py:475: ConvergenceWarning: Objective did not converge. You might want to increase the number of iterations. Duality gap: 396078.8833919092, tolerance: 226.18969507999748\n",
      "  positive)\n",
      "C:\\Users\\barzi\\Anaconda3\\lib\\site-packages\\sklearn\\linear_model\\coordinate_descent.py:475: ConvergenceWarning: Objective did not converge. You might want to increase the number of iterations. Duality gap: 396764.38206310704, tolerance: 226.18969507999748\n",
      "  positive)\n",
      "C:\\Users\\barzi\\Anaconda3\\lib\\site-packages\\sklearn\\linear_model\\coordinate_descent.py:475: ConvergenceWarning: Objective did not converge. You might want to increase the number of iterations. Duality gap: 397399.78838381876, tolerance: 226.18969507999748\n",
      "  positive)\n",
      "C:\\Users\\barzi\\Anaconda3\\lib\\site-packages\\sklearn\\linear_model\\coordinate_descent.py:475: ConvergenceWarning: Objective did not converge. You might want to increase the number of iterations. Duality gap: 397980.60041077004, tolerance: 226.18969507999748\n",
      "  positive)\n",
      "C:\\Users\\barzi\\Anaconda3\\lib\\site-packages\\sklearn\\linear_model\\coordinate_descent.py:475: ConvergenceWarning: Objective did not converge. You might want to increase the number of iterations. Duality gap: 398511.4516591461, tolerance: 226.18969507999748\n",
      "  positive)\n",
      "C:\\Users\\barzi\\Anaconda3\\lib\\site-packages\\sklearn\\linear_model\\coordinate_descent.py:475: ConvergenceWarning: Objective did not converge. You might want to increase the number of iterations. Duality gap: 398990.8127663927, tolerance: 226.18969507999748\n",
      "  positive)\n",
      "C:\\Users\\barzi\\Anaconda3\\lib\\site-packages\\sklearn\\linear_model\\coordinate_descent.py:475: ConvergenceWarning: Objective did not converge. You might want to increase the number of iterations. Duality gap: 399427.6464460986, tolerance: 226.18969507999748\n",
      "  positive)\n",
      "C:\\Users\\barzi\\Anaconda3\\lib\\site-packages\\sklearn\\linear_model\\coordinate_descent.py:475: ConvergenceWarning: Objective did not converge. You might want to increase the number of iterations. Duality gap: 399841.6726887745, tolerance: 226.18969507999748\n",
      "  positive)\n",
      "C:\\Users\\barzi\\Anaconda3\\lib\\site-packages\\sklearn\\linear_model\\coordinate_descent.py:475: ConvergenceWarning: Objective did not converge. You might want to increase the number of iterations. Duality gap: 400198.9978177636, tolerance: 226.18969507999748\n",
      "  positive)\n",
      "C:\\Users\\barzi\\Anaconda3\\lib\\site-packages\\sklearn\\linear_model\\coordinate_descent.py:475: ConvergenceWarning: Objective did not converge. You might want to increase the number of iterations. Duality gap: 400499.497255882, tolerance: 226.18969507999748\n",
      "  positive)\n",
      "C:\\Users\\barzi\\Anaconda3\\lib\\site-packages\\sklearn\\linear_model\\coordinate_descent.py:475: ConvergenceWarning: Objective did not converge. You might want to increase the number of iterations. Duality gap: 400744.1383282766, tolerance: 226.18969507999748\n",
      "  positive)\n",
      "C:\\Users\\barzi\\Anaconda3\\lib\\site-packages\\sklearn\\linear_model\\coordinate_descent.py:475: ConvergenceWarning: Objective did not converge. You might want to increase the number of iterations. Duality gap: 400933.66144649073, tolerance: 226.18969507999748\n",
      "  positive)\n",
      "C:\\Users\\barzi\\Anaconda3\\lib\\site-packages\\sklearn\\linear_model\\coordinate_descent.py:475: ConvergenceWarning: Objective did not converge. You might want to increase the number of iterations. Duality gap: 401068.0305635632, tolerance: 226.18969507999748\n",
      "  positive)\n",
      "C:\\Users\\barzi\\Anaconda3\\lib\\site-packages\\sklearn\\linear_model\\coordinate_descent.py:475: ConvergenceWarning: Objective did not converge. You might want to increase the number of iterations. Duality gap: 401147.5121722723, tolerance: 226.18969507999748\n",
      "  positive)\n",
      "C:\\Users\\barzi\\Anaconda3\\lib\\site-packages\\sklearn\\linear_model\\coordinate_descent.py:475: ConvergenceWarning: Objective did not converge. You might want to increase the number of iterations. Duality gap: 401171.21965960093, tolerance: 226.18969507999748\n",
      "  positive)\n",
      "C:\\Users\\barzi\\Anaconda3\\lib\\site-packages\\sklearn\\linear_model\\coordinate_descent.py:475: ConvergenceWarning: Objective did not converge. You might want to increase the number of iterations. Duality gap: 401138.53293506766, tolerance: 226.18969507999748\n",
      "  positive)\n",
      "C:\\Users\\barzi\\Anaconda3\\lib\\site-packages\\sklearn\\linear_model\\coordinate_descent.py:475: ConvergenceWarning: Objective did not converge. You might want to increase the number of iterations. Duality gap: 401512.90600154287, tolerance: 226.18969507999748\n",
      "  positive)\n",
      "C:\\Users\\barzi\\Anaconda3\\lib\\site-packages\\sklearn\\linear_model\\coordinate_descent.py:475: ConvergenceWarning: Objective did not converge. You might want to increase the number of iterations. Duality gap: 401748.28049602313, tolerance: 226.18969507999748\n",
      "  positive)\n",
      "C:\\Users\\barzi\\Anaconda3\\lib\\site-packages\\sklearn\\linear_model\\coordinate_descent.py:475: ConvergenceWarning: Objective did not converge. You might want to increase the number of iterations. Duality gap: 401951.1027568894, tolerance: 226.18969507999748\n",
      "  positive)\n",
      "C:\\Users\\barzi\\Anaconda3\\lib\\site-packages\\sklearn\\linear_model\\coordinate_descent.py:475: ConvergenceWarning: Objective did not converge. You might want to increase the number of iterations. Duality gap: 402136.7600958089, tolerance: 226.18969507999748\n",
      "  positive)\n",
      "C:\\Users\\barzi\\Anaconda3\\lib\\site-packages\\sklearn\\linear_model\\coordinate_descent.py:475: ConvergenceWarning: Objective did not converge. You might want to increase the number of iterations. Duality gap: 402307.60535340896, tolerance: 226.18969507999748\n",
      "  positive)\n",
      "C:\\Users\\barzi\\Anaconda3\\lib\\site-packages\\sklearn\\linear_model\\coordinate_descent.py:475: ConvergenceWarning: Objective did not converge. You might want to increase the number of iterations. Duality gap: 402461.5073361114, tolerance: 226.18969507999748\n",
      "  positive)\n",
      "C:\\Users\\barzi\\Anaconda3\\lib\\site-packages\\sklearn\\linear_model\\coordinate_descent.py:475: ConvergenceWarning: Objective did not converge. You might want to increase the number of iterations. Duality gap: 402598.91262772086, tolerance: 226.18969507999748\n",
      "  positive)\n",
      "C:\\Users\\barzi\\Anaconda3\\lib\\site-packages\\sklearn\\linear_model\\coordinate_descent.py:475: ConvergenceWarning: Objective did not converge. You might want to increase the number of iterations. Duality gap: 402721.6077614078, tolerance: 226.18969507999748\n",
      "  positive)\n",
      "C:\\Users\\barzi\\Anaconda3\\lib\\site-packages\\sklearn\\linear_model\\coordinate_descent.py:475: ConvergenceWarning: Objective did not converge. You might want to increase the number of iterations. Duality gap: 402831.7446400267, tolerance: 226.18969507999748\n",
      "  positive)\n",
      "C:\\Users\\barzi\\Anaconda3\\lib\\site-packages\\sklearn\\linear_model\\coordinate_descent.py:475: ConvergenceWarning: Objective did not converge. You might want to increase the number of iterations. Duality gap: 402961.1524757942, tolerance: 226.18969507999748\n",
      "  positive)\n",
      "C:\\Users\\barzi\\Anaconda3\\lib\\site-packages\\sklearn\\linear_model\\coordinate_descent.py:475: ConvergenceWarning: Objective did not converge. You might want to increase the number of iterations. Duality gap: 403129.4806236026, tolerance: 226.18969507999748\n",
      "  positive)\n",
      "C:\\Users\\barzi\\Anaconda3\\lib\\site-packages\\sklearn\\linear_model\\coordinate_descent.py:475: ConvergenceWarning: Objective did not converge. You might want to increase the number of iterations. Duality gap: 403215.17975835915, tolerance: 226.18969507999748\n",
      "  positive)\n",
      "C:\\Users\\barzi\\Anaconda3\\lib\\site-packages\\sklearn\\linear_model\\coordinate_descent.py:475: ConvergenceWarning: Objective did not converge. You might want to increase the number of iterations. Duality gap: 403298.7950871911, tolerance: 226.18969507999748\n",
      "  positive)\n",
      "C:\\Users\\barzi\\Anaconda3\\lib\\site-packages\\sklearn\\linear_model\\coordinate_descent.py:475: ConvergenceWarning: Objective did not converge. You might want to increase the number of iterations. Duality gap: 403380.34710339323, tolerance: 226.18969507999748\n",
      "  positive)\n",
      "C:\\Users\\barzi\\Anaconda3\\lib\\site-packages\\sklearn\\linear_model\\coordinate_descent.py:475: ConvergenceWarning: Objective did not converge. You might want to increase the number of iterations. Duality gap: 403456.3924597591, tolerance: 226.18969507999748\n",
      "  positive)\n",
      "C:\\Users\\barzi\\Anaconda3\\lib\\site-packages\\sklearn\\linear_model\\coordinate_descent.py:475: ConvergenceWarning: Objective did not converge. You might want to increase the number of iterations. Duality gap: 403531.91115726467, tolerance: 226.18969507999748\n",
      "  positive)\n",
      "C:\\Users\\barzi\\Anaconda3\\lib\\site-packages\\sklearn\\linear_model\\coordinate_descent.py:475: ConvergenceWarning: Objective did not converge. You might want to increase the number of iterations. Duality gap: 403619.2886074113, tolerance: 226.18969507999748\n",
      "  positive)\n",
      "C:\\Users\\barzi\\Anaconda3\\lib\\site-packages\\sklearn\\linear_model\\coordinate_descent.py:475: ConvergenceWarning: Objective did not converge. You might want to increase the number of iterations. Duality gap: 403708.5662394942, tolerance: 226.18969507999748\n",
      "  positive)\n",
      "C:\\Users\\barzi\\Anaconda3\\lib\\site-packages\\sklearn\\linear_model\\coordinate_descent.py:475: ConvergenceWarning: Objective did not converge. You might want to increase the number of iterations. Duality gap: 403798.9278230952, tolerance: 226.18969507999748\n",
      "  positive)\n",
      "C:\\Users\\barzi\\Anaconda3\\lib\\site-packages\\sklearn\\linear_model\\coordinate_descent.py:475: ConvergenceWarning: Objective did not converge. You might want to increase the number of iterations. Duality gap: 403889.86468483123, tolerance: 226.18969507999748\n",
      "  positive)\n",
      "C:\\Users\\barzi\\Anaconda3\\lib\\site-packages\\sklearn\\linear_model\\coordinate_descent.py:475: ConvergenceWarning: Objective did not converge. You might want to increase the number of iterations. Duality gap: 403981.1786951551, tolerance: 226.18969507999748\n",
      "  positive)\n",
      "C:\\Users\\barzi\\Anaconda3\\lib\\site-packages\\sklearn\\linear_model\\coordinate_descent.py:475: ConvergenceWarning: Objective did not converge. You might want to increase the number of iterations. Duality gap: 404072.5272623952, tolerance: 226.18969507999748\n",
      "  positive)\n",
      "C:\\Users\\barzi\\Anaconda3\\lib\\site-packages\\sklearn\\linear_model\\coordinate_descent.py:475: ConvergenceWarning: Objective did not converge. You might want to increase the number of iterations. Duality gap: 404163.6665416889, tolerance: 226.18969507999748\n",
      "  positive)\n",
      "C:\\Users\\barzi\\Anaconda3\\lib\\site-packages\\sklearn\\linear_model\\coordinate_descent.py:475: ConvergenceWarning: Objective did not converge. You might want to increase the number of iterations. Duality gap: 404254.4567533817, tolerance: 226.18969507999748\n",
      "  positive)\n",
      "C:\\Users\\barzi\\Anaconda3\\lib\\site-packages\\sklearn\\linear_model\\coordinate_descent.py:475: ConvergenceWarning: Objective did not converge. You might want to increase the number of iterations. Duality gap: 404344.8030023734, tolerance: 226.18969507999748\n",
      "  positive)\n",
      "C:\\Users\\barzi\\Anaconda3\\lib\\site-packages\\sklearn\\linear_model\\coordinate_descent.py:475: ConvergenceWarning: Objective did not converge. You might want to increase the number of iterations. Duality gap: 404434.6841183991, tolerance: 226.18969507999748\n",
      "  positive)\n",
      "C:\\Users\\barzi\\Anaconda3\\lib\\site-packages\\sklearn\\linear_model\\coordinate_descent.py:475: ConvergenceWarning: Objective did not converge. You might want to increase the number of iterations. Duality gap: 404523.9144311425, tolerance: 226.18969507999748\n",
      "  positive)\n",
      "C:\\Users\\barzi\\Anaconda3\\lib\\site-packages\\sklearn\\linear_model\\coordinate_descent.py:475: ConvergenceWarning: Objective did not converge. You might want to increase the number of iterations. Duality gap: 404612.59815086465, tolerance: 226.18969507999748\n",
      "  positive)\n"
     ]
    },
    {
     "name": "stderr",
     "output_type": "stream",
     "text": [
      "C:\\Users\\barzi\\Anaconda3\\lib\\site-packages\\sklearn\\linear_model\\coordinate_descent.py:475: ConvergenceWarning: Objective did not converge. You might want to increase the number of iterations. Duality gap: 404703.2247090008, tolerance: 226.18969507999748\n",
      "  positive)\n",
      "C:\\Users\\barzi\\Anaconda3\\lib\\site-packages\\sklearn\\linear_model\\coordinate_descent.py:475: ConvergenceWarning: Objective did not converge. You might want to increase the number of iterations. Duality gap: 404793.56456138456, tolerance: 226.18969507999748\n",
      "  positive)\n",
      "C:\\Users\\barzi\\Anaconda3\\lib\\site-packages\\sklearn\\linear_model\\coordinate_descent.py:475: ConvergenceWarning: Objective did not converge. You might want to increase the number of iterations. Duality gap: 404882.37869066605, tolerance: 226.18969507999748\n",
      "  positive)\n",
      "C:\\Users\\barzi\\Anaconda3\\lib\\site-packages\\sklearn\\linear_model\\coordinate_descent.py:475: ConvergenceWarning: Objective did not converge. You might want to increase the number of iterations. Duality gap: 404969.2540186554, tolerance: 226.18969507999748\n",
      "  positive)\n",
      "C:\\Users\\barzi\\Anaconda3\\lib\\site-packages\\sklearn\\linear_model\\coordinate_descent.py:475: ConvergenceWarning: Objective did not converge. You might want to increase the number of iterations. Duality gap: 405053.42826468917, tolerance: 226.18969507999748\n",
      "  positive)\n",
      "C:\\Users\\barzi\\Anaconda3\\lib\\site-packages\\sklearn\\linear_model\\coordinate_descent.py:475: ConvergenceWarning: Objective did not converge. You might want to increase the number of iterations. Duality gap: 405135.68857286085, tolerance: 226.18969507999748\n",
      "  positive)\n",
      "C:\\Users\\barzi\\Anaconda3\\lib\\site-packages\\sklearn\\linear_model\\coordinate_descent.py:475: ConvergenceWarning: Objective did not converge. You might want to increase the number of iterations. Duality gap: 405216.4219033974, tolerance: 226.18969507999748\n",
      "  positive)\n",
      "C:\\Users\\barzi\\Anaconda3\\lib\\site-packages\\sklearn\\linear_model\\coordinate_descent.py:475: ConvergenceWarning: Objective did not converge. You might want to increase the number of iterations. Duality gap: 405295.60194826056, tolerance: 226.18969507999748\n",
      "  positive)\n",
      "C:\\Users\\barzi\\Anaconda3\\lib\\site-packages\\sklearn\\linear_model\\coordinate_descent.py:475: ConvergenceWarning: Objective did not converge. You might want to increase the number of iterations. Duality gap: 405373.541542405, tolerance: 226.18969507999748\n",
      "  positive)\n",
      "C:\\Users\\barzi\\Anaconda3\\lib\\site-packages\\sklearn\\linear_model\\coordinate_descent.py:475: ConvergenceWarning: Objective did not converge. You might want to increase the number of iterations. Duality gap: 405448.26936745364, tolerance: 226.18969507999748\n",
      "  positive)\n",
      "C:\\Users\\barzi\\Anaconda3\\lib\\site-packages\\sklearn\\linear_model\\coordinate_descent.py:475: ConvergenceWarning: Objective did not converge. You might want to increase the number of iterations. Duality gap: 405521.6391293573, tolerance: 226.18969507999748\n",
      "  positive)\n",
      "C:\\Users\\barzi\\Anaconda3\\lib\\site-packages\\sklearn\\linear_model\\coordinate_descent.py:475: ConvergenceWarning: Objective did not converge. You might want to increase the number of iterations. Duality gap: 405593.4908011003, tolerance: 226.18969507999748\n",
      "  positive)\n",
      "C:\\Users\\barzi\\Anaconda3\\lib\\site-packages\\sklearn\\linear_model\\coordinate_descent.py:475: ConvergenceWarning: Objective did not converge. You might want to increase the number of iterations. Duality gap: 405664.14754721423, tolerance: 226.18969507999748\n",
      "  positive)\n",
      "C:\\Users\\barzi\\Anaconda3\\lib\\site-packages\\sklearn\\linear_model\\coordinate_descent.py:475: ConvergenceWarning: Objective did not converge. You might want to increase the number of iterations. Duality gap: 405733.325592461, tolerance: 226.18969507999748\n",
      "  positive)\n",
      "C:\\Users\\barzi\\Anaconda3\\lib\\site-packages\\sklearn\\linear_model\\coordinate_descent.py:475: ConvergenceWarning: Objective did not converge. You might want to increase the number of iterations. Duality gap: 405801.2717108845, tolerance: 226.18969507999748\n",
      "  positive)\n",
      "C:\\Users\\barzi\\Anaconda3\\lib\\site-packages\\sklearn\\linear_model\\coordinate_descent.py:475: ConvergenceWarning: Objective did not converge. You might want to increase the number of iterations. Duality gap: 405867.9545819179, tolerance: 226.18969507999748\n",
      "  positive)\n",
      "C:\\Users\\barzi\\Anaconda3\\lib\\site-packages\\sklearn\\linear_model\\coordinate_descent.py:475: ConvergenceWarning: Objective did not converge. You might want to increase the number of iterations. Duality gap: 405933.1604754628, tolerance: 226.18969507999748\n",
      "  positive)\n",
      "C:\\Users\\barzi\\Anaconda3\\lib\\site-packages\\sklearn\\linear_model\\coordinate_descent.py:475: ConvergenceWarning: Objective did not converge. You might want to increase the number of iterations. Duality gap: 405997.17424928513, tolerance: 226.18969507999748\n",
      "  positive)\n"
     ]
    },
    {
     "data": {
      "text/plain": [
       "<matplotlib.legend.Legend at 0x2aa1a106e48>"
      ]
     },
     "execution_count": 27,
     "metadata": {},
     "output_type": "execute_result"
    },
    {
     "data": {
      "image/png": "[encoded data removed]",
      "text/plain": [
       "<Figure size 432x288 with 1 Axes>"
      ]
     },
     "metadata": {
      "needs_background": "light"
     },
     "output_type": "display_data"
    }
   ],
   "source": [
    "# Vaš kôd ovdje\n",
    "# Vaš kôd ovdje\n",
    "from sklearn import linear_model\n",
    "x = make_instances(-5, 5, 50)\n",
    "y = make_labels(x, f, 200)\n",
    "\n",
    "x_train, x_test, y_train, y_test = train_test_split(x, y, test_size = 0.5)\n",
    "\n",
    "def calculate_L1(w):\n",
    "    return sum(absolute(w))\n",
    "\n",
    "def calculate_L2(w):\n",
    "    return sum(w.dot(transpose(w)))**0.5\n",
    "   \n",
    "poly = PolynomialFeatures(10)\n",
    "phi = poly.fit_transform(x_train)\n",
    "\n",
    "L0 = []\n",
    "L1 = []\n",
    "L2 = []\n",
    "\n",
    "for reg in range(0, 101):\n",
    "    clf = linear_model.Lasso(alpha=reg).fit(phi, y_train)\n",
    "    w = clf.coef_\n",
    "    w0 = clf.intercept_\n",
    "    w[0] = w0\n",
    "    L0.append(nonzeroes(w))\n",
    "    L1.append(calculate_L1(w))\n",
    "    L2.append(calculate_L2(w))\n",
    "    \n",
    "    \n",
    "plt.plot(range(101), L0, label = \"L0\")\n",
    "plt.plot(range(101), L1, label = \"L1\")\n",
    "plt.plot(range(101), L2, label = \"L2\")\n",
    "plt.legend(loc=\"lower left\")\n",
    "\n"
   ]
  },
  {
   "cell_type": "markdown",
   "metadata": {},
   "source": [
    "### 7. Značajke različitih skala"
   ]
  },
  {
   "cell_type": "markdown",
   "metadata": {},
   "source": [
    "Često se u praksi možemo susreti sa podatcima u kojima sve značajke nisu jednakih magnituda. Primjer jednog takvog skupa je regresijski skup podataka `grades` u kojem se predviđa prosjek ocjena studenta na studiju (1--5) na temelju dvije značajke: bodova na prijamnom ispitu (1--3000) i prosjeka ocjena u srednjoj školi. Prosjek ocjena na studiju izračunat je kao težinska suma ove dvije značajke uz dodani šum.\n",
    "\n",
    "Koristite sljedeći kôd kako biste generirali ovaj skup podataka."
   ]
  },
  {
   "cell_type": "code",
   "execution_count": 28,
   "metadata": {},
   "outputs": [],
   "source": [
    "n_data_points = 500\n",
    "np.random.seed(69)\n",
    "\n",
    "# Generiraj podatke o bodovima na prijamnom ispitu koristeći normalnu razdiobu i ograniči ih na interval [1, 3000].\n",
    "exam_score = np.random.normal(loc=1500.0, scale = 500.0, size = n_data_points) \n",
    "exam_score = np.round(exam_score)\n",
    "exam_score[exam_score > 3000] = 3000\n",
    "exam_score[exam_score < 0] = 0\n",
    "\n",
    "# Generiraj podatke o ocjenama iz srednje škole koristeći normalnu razdiobu i ograniči ih na interval [1, 5].\n",
    "grade_in_highschool = np.random.normal(loc=3, scale = 2.0, size = n_data_points)\n",
    "grade_in_highschool[grade_in_highschool > 5] = 5\n",
    "grade_in_highschool[grade_in_highschool < 1] = 1\n",
    "\n",
    "# Matrica dizajna.\n",
    "grades_X = np.array([exam_score,grade_in_highschool]).T\n",
    "\n",
    "# Završno, generiraj izlazne vrijednosti.\n",
    "rand_noise = np.random.normal(loc=0.0, scale = 0.5, size = n_data_points)\n",
    "exam_influence = 0.9\n",
    "grades_y = ((exam_score / 3000.0) * (exam_influence) + (grade_in_highschool / 5.0) \\\n",
    "            * (1.0 - exam_influence)) * 5.0 + rand_noise\n",
    "grades_y[grades_y < 1] = 1\n",
    "grades_y[grades_y > 5] = 5"
   ]
  },
  {
   "cell_type": "markdown",
   "metadata": {},
   "source": [
    "**a)** Iscrtajte ovisnost ciljne vrijednosti (y-os) o prvoj i o drugoj značajki (x-os). Iscrtajte dva odvojena grafa."
   ]
  },
  {
   "cell_type": "code",
   "execution_count": 29,
   "metadata": {},
   "outputs": [
    {
     "data": {
      "text/plain": [
       "Text(0.5, 1.0, 'grade_in_highschol')"
      ]
     },
     "execution_count": 29,
     "metadata": {},
     "output_type": "execute_result"
    },
    {
     "data": {
      "image/png": "[encoded data removed]",
      "text/plain": [
       "<Figure size 432x288 with 2 Axes>"
      ]
     },
     "metadata": {
      "needs_background": "light"
     },
     "output_type": "display_data"
    }
   ],
   "source": [
    "# Vaš kôd ovdje\n",
    "subplot(2,1,1)\n",
    "plt.scatter(exam_score, grades_y)\n",
    "plt.title(\"exam_score\")\n",
    "\n",
    "subplot(2,1,2)\n",
    "plt.scatter(grade_in_highschool, grades_y)\n",
    "plt.title(\"grade_in_highschol\")"
   ]
  },
  {
   "cell_type": "markdown",
   "metadata": {},
   "source": [
    "**b)** Naučite model L2-regularizirane regresije ($\\lambda = 0.01$), na podacima `grades_X` i `grades_y`:"
   ]
  },
  {
   "cell_type": "code",
   "execution_count": 30,
   "metadata": {},
   "outputs": [
    {
     "name": "stdout",
     "output_type": "stream",
     "text": [
      "[0.00141497 0.09477276]\n",
      "0.1506117957577615\n"
     ]
    }
   ],
   "source": [
    "# Vaš kôd ovdje\n",
    "clf = Ridge(alpha = 0.01)\n",
    "w = clf.fit(grades_X, grades_y)\n",
    "print(w.coef_)\n",
    "print(w.intercept_)\n",
    "\n"
   ]
  },
  {
   "cell_type": "markdown",
   "metadata": {},
   "source": [
    "Sada ponovite gornji eksperiment, ali prvo skalirajte podatke `grades_X` i `grades_y` i spremite ih u varijable `grades_X_fixed` i `grades_y_fixed`. Za tu svrhu, koristite [`StandardScaler`](http://scikit-learn.org/stable/modules/generated/sklearn.preprocessing.StandardScaler.html)."
   ]
  },
  {
   "cell_type": "code",
   "execution_count": 31,
   "metadata": {},
   "outputs": [],
   "source": [
    "from sklearn.preprocessing import StandardScaler"
   ]
  },
  {
   "cell_type": "code",
   "execution_count": 32,
   "metadata": {},
   "outputs": [
    {
     "name": "stdout",
     "output_type": "stream",
     "text": [
      "[[0.81630375 0.15167761]]\n",
      "[8.62551331e-17]\n"
     ]
    }
   ],
   "source": [
    "# Vaš kôd ovdje\n",
    "scalerx = StandardScaler()\n",
    "grades_X_fixed = scalerx.fit_transform(grades_X)\n",
    "\n",
    "scalery = StandardScaler()\n",
    "grades_y_fixed = scalery.fit_transform(grades_y.reshape(-1, 1))\n",
    "\n",
    "clf = Ridge(alpha = 0.01)\n",
    "w = clf.fit(grades_X_fixed, grades_y_fixed)\n",
    "print(w.coef_)\n",
    "print(w.intercept_)"
   ]
  },
  {
   "cell_type": "markdown",
   "metadata": {},
   "source": [
    "**Q:** Gledajući grafikone iz podzadatka (a), koja značajka bi trebala imati veću magnitudu, odnosno važnost pri predikciji prosjeka na studiju? Odgovaraju li težine Vašoj intuiciji? Objasnite.  "
   ]
  },
  {
   "cell_type": "markdown",
   "metadata": {},
   "source": [
    "### 8. Multikolinearnost i kondicija matrice"
   ]
  },
  {
   "cell_type": "markdown",
   "metadata": {},
   "source": [
    "**a)** Izradite skup podataka `grades_X_fixed_colinear` tako što ćete u skupu `grades_X_fixed` iz\n",
    "zadatka *7b* duplicirati zadnji stupac (ocjenu iz srednje škole). Time smo efektivno uveli savršenu multikolinearnost."
   ]
  },
  {
   "cell_type": "code",
   "execution_count": 33,
   "metadata": {},
   "outputs": [
    {
     "name": "stdout",
     "output_type": "stream",
     "text": [
      "[[ 0.95063817 -0.78607869 -0.78607869]\n",
      " [-0.50343434 -0.50193004 -0.50193004]\n",
      " [ 1.18596832 -0.52213172 -0.52213172]\n",
      " ...\n",
      " [-0.31593552  0.80074234  0.80074234]\n",
      " [ 0.81288393  1.24783236  1.24783236]\n",
      " [-0.01938126  1.21729714  1.21729714]]\n"
     ]
    }
   ],
   "source": [
    "# Vaš kôd ovdje\n",
    "grades_X_fixed_colinear = np.delete(np.append(grades_X_fixed, grades_X_fixed, 1), 2, 1)\n",
    "print(grades_X_fixed_colinear)"
   ]
  },
  {
   "cell_type": "markdown",
   "metadata": {},
   "source": [
    "Ponovno, naučite na ovom skupu L2-regularizirani model regresije ($\\lambda = 0.01$)."
   ]
  },
  {
   "cell_type": "code",
   "execution_count": 34,
   "metadata": {},
   "outputs": [
    {
     "name": "stdout",
     "output_type": "stream",
     "text": [
      "[[0.81630364 0.07583957 0.07583957]]\n",
      "[8.6255971e-17]\n"
     ]
    }
   ],
   "source": [
    "# Vaš kôd ovdje\n",
    "clf = Ridge(alpha = 0.01)\n",
    "w = clf.fit(grades_X_fixed_colinear, grades_y_fixed)\n",
    "print(w.coef_)\n",
    "print(w.intercept_)\n",
    "\n",
    "\n",
    "\n"
   ]
  },
  {
   "cell_type": "markdown",
   "metadata": {},
   "source": [
    "**Q:** Usporedite iznose težina s onima koje ste dobili u zadatku *7b*. Što se dogodilo?"
   ]
  },
  {
   "cell_type": "markdown",
   "metadata": {},
   "source": [
    "**b)** Slučajno uzorkujte 50% elemenata iz skupa `grades_X_fixed_colinear` i naučite dva modela L2-regularizirane regresije, jedan s $\\lambda=0.01$ i jedan s $\\lambda=1000$). Ponovite ovaj pokus 10 puta (svaki put s drugim podskupom od 50% elemenata).  Za svaki model, ispišite dobiveni vektor težina u svih 10 ponavljanja te ispišite standardnu devijaciju vrijednosti svake od težina (ukupno šest standardnih devijacija, svaka dobivena nad 10 vrijednosti)."
   ]
  },
  {
   "cell_type": "code",
   "execution_count": 35,
   "metadata": {},
   "outputs": [
    {
     "name": "stdout",
     "output_type": "stream",
     "text": [
      "lambda = 0.010000\n",
      "i = 0\n",
      "[[-0.01045662  0.06504303  0.06504303]]\n",
      "i = 1\n",
      "[[0.02152062 0.0761075  0.0761075 ]]\n",
      "i = 2\n",
      "[[0.00921447 0.07673386 0.07673386]]\n",
      "i = 3\n",
      "[[-0.01820559  0.07483515  0.07483515]]\n",
      "i = 4\n",
      "[[0.01261939 0.08013669 0.08013669]]\n",
      "i = 5\n",
      "[[0.00283109 0.04525193 0.04525193]]\n",
      "i = 6\n",
      "[[-0.04553636  0.0614553   0.0614553 ]]\n",
      "i = 7\n",
      "[[0.00861207 0.06648337 0.06648337]]\n",
      "i = 8\n",
      "[[-0.01197704  0.04444567  0.04444567]]\n",
      "i = 9\n",
      "[[-0.01779144  0.07443972  0.07443972]]\n",
      "w0, stdev = 0.019782\n",
      "w1, stdev = 0.012828\n",
      "w2, stdev = 0.012828\n",
      "lambda = 1000.000000\n",
      "i = 0\n",
      "[[-0.03142131  0.02835895  0.02835895]]\n",
      "i = 1\n",
      "[[0.02571883 0.03291219 0.03291219]]\n",
      "i = 2\n",
      "[[0.06719543 0.02978618 0.02978618]]\n",
      "i = 3\n",
      "[[0.0028935  0.02672001 0.02672001]]\n",
      "i = 4\n",
      "[[-0.09062737  0.01854873  0.01854873]]\n",
      "i = 5\n",
      "[[0.10754806 0.0341431  0.0341431 ]]\n",
      "i = 6\n",
      "[[-0.00622437  0.02581807  0.02581807]]\n",
      "i = 7\n",
      "[[0.00176983 0.02425615 0.02425615]]\n",
      "i = 8\n",
      "[[0.07727794 0.03400781 0.03400781]]\n",
      "i = 9\n",
      "[[0.05092218 0.03173866 0.03173866]]\n",
      "w0, stdev = 0.058075\n",
      "w1, stdev = 0.004956\n",
      "w2, stdev = 0.004956\n"
     ]
    }
   ],
   "source": [
    "# Vaš kôd ovdje\n",
    "from statistics import stdev\n",
    "\n",
    "for reg in[0.01, 1000]:\n",
    "    print(\"lambda = %f\" %reg)\n",
    "    w00 = []\n",
    "    w1 = []\n",
    "    w2 = []\n",
    "   \n",
    "    for i in range(10):\n",
    "        x_train, x_test, y_train, y_test = train_test_split(grades_X_fixed_colinear, grades_y_fixed, test_size = 0.5)\n",
    "        \n",
    "        clf = Ridge(alpha = reg).fit(x_train, y_train)\n",
    "        w0 = clf.intercept_\n",
    "        w = clf.coef_\n",
    "        w[0][0] = w0\n",
    "        \n",
    "        print(\"i = %d\" %i)\n",
    "        print(w)\n",
    "    \n",
    "        \n",
    "        w00.append(w[0][0])\n",
    "        w1.append(w[0][1])\n",
    "        w2.append(w[0][2])\n",
    "\n",
    "    \n",
    "    print(\"w0, stdev = %f\" %stdev(w00))\n",
    "    print(\"w1, stdev = %f\" %stdev(w1))\n",
    "    print(\"w2, stdev = %f\" %stdev(w2))\n",
    "        \n",
    "        \n",
    "        \n",
    "\n"
   ]
  },
  {
   "cell_type": "markdown",
   "metadata": {},
   "source": [
    "**Q:** Kako regularizacija utječe na stabilnost težina?  \n",
    "**Q:** Jesu li koeficijenti jednakih magnituda kao u prethodnom pokusu? Objasnite zašto."
   ]
  },
  {
   "cell_type": "markdown",
   "metadata": {},
   "source": [
    "**c)** Koristeći [`numpy.linalg.cond`](https://docs.scipy.org/doc/numpy-1.13.0/reference/generated/numpy.linalg.cond.html) izračunajte kondicijski broj matrice $\\mathbf{\\Phi}^\\intercal\\mathbf{\\Phi}+\\lambda\\mathbf{I}$, gdje je $\\mathbf{\\Phi}$ matrica dizajna (`grades_X_fixed_colinear`). Ponovite i za $\\lambda=0.01$ i za $\\lambda=10$.\n"
   ]
  },
  {
   "cell_type": "code",
   "execution_count": 36,
   "metadata": {},
   "outputs": [
    {
     "name": "stdout",
     "output_type": "stream",
     "text": [
      "100542.8665348069\n",
      "101.54186653499318\n"
     ]
    }
   ],
   "source": [
    "# Vaš kôd ovdje\n",
    "I = np.eye(4)\n",
    "I[0][0] = 0\n",
    "\n",
    "poly = PolynomialFeatures(1)\n",
    "phi = poly.fit_transform(grades_X_fixed_colinear)\n",
    "\n",
    "for reg in [0.01, 10]:\n",
    "    cond_num = cond(transpose(phi).dot(phi) + reg*I)\n",
    "    print(cond_num)"
   ]
  },
  {
   "cell_type": "markdown",
   "metadata": {},
   "source": [
    "**Q:** Kako regularizacija utječe na kondicijski broj matrice $\\mathbf{\\Phi}^\\intercal\\mathbf{\\Phi}+\\lambda\\mathbf{I}$?  "
   ]
  }
 ],
 "metadata": {
  "anaconda-cloud": {},
  "kernelspec": {
   "display_name": "Python 3",
   "language": "python",
   "name": "python3"
  },
  "language_info": {
   "codemirror_mode": {
    "name": "ipython",
    "version": 3
   },
   "file_extension": ".py",
   "mimetype": "text/x-python",
   "name": "python",
   "nbconvert_exporter": "python",
   "pygments_lexer": "ipython3",
   "version": "3.7.4"
  }
 },
 "nbformat": 4,
 "nbformat_minor": 1
}
